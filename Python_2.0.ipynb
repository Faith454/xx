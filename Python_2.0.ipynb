{
 "cells": [
  {
   "cell_type": "code",
   "execution_count": null,
   "id": "9cada236-3457-41f6-bb86-4b033822a1a8",
   "metadata": {},
   "outputs": [
    {
     "name": "stdin",
     "output_type": "stream",
     "text": [
      "Enter the first number:  77\n",
      "Enter the operation (+, -, *, /, ^, sqrt, log):  *\n",
      "Enter the second number:  7\n"
     ]
    },
    {
     "name": "stdout",
     "output_type": "stream",
     "text": [
      "Result: 539.0\n"
     ]
    },
    {
     "name": "stdin",
     "output_type": "stream",
     "text": [
      "Do you want to continue? (yes/no):  yes\n"
     ]
    }
   ],
   "source": [
    "import math\n",
    "\n",
    "class Calculator:\n",
    "    def __init__(self):\n",
    "        self.operations = {}\n",
    "        self.init()\n",
    "\n",
    "    def init(self):\n",
    "        self.operations = {\n",
    "            '+': lambda x, y: x + y,\n",
    "            '-': lambda x, y: x - y,\n",
    "            '*': lambda x, y: x * y,\n",
    "            '/': lambda x, y: x / y if y != 0 else float('inf')  # In case of division by zero\n",
    "        }\n",
    "\n",
    "        # Adding advanced operations\n",
    "        self.add_operation('^', lambda x, y: x ** y)  # Exponentiation\n",
    "        self.add_operation('sqrt', lambda x: math.sqrt(x))  # Square root\n",
    "        self.add_operation('log', lambda x: math.log(x))  # Natural logarithm\n",
    "\n",
    "    def add_operation(self, symbol, func):\n",
    "        self.operations[symbol] = func\n",
    "\n",
    "    def calculate(self, symbol, x, y):\n",
    "        if symbol in self.operations:\n",
    "            return self.operations[symbol](x, y)\n",
    "        else:\n",
    "            raise ValueError(f\"Operation '{symbol}' not supported.\")\n",
    "\n",
    "    def power(self, x, y):\n",
    "        return self.calculate('^', x, y)\n",
    "\n",
    "    def square_root(self, x):\n",
    "        return self.calculate('sqrt', x)\n",
    "\n",
    "    def logarithm(self, x):\n",
    "        return self.calculate('log', x)\n",
    "\n",
    "# Main program\n",
    "calculator = Calculator()\n",
    "\n",
    "while True:\n",
    "    try:\n",
    "        first_number = float(input(\"Enter the first number: \"))\n",
    "        operation = input(\"Enter the operation (+, -, *, /, ^, sqrt, log): \")\n",
    "        \n",
    "        if operation not in ['+', '-', '*', '/', '^', 'sqrt', 'log']:\n",
    "            raise ValueError(\"Invalid operation\")\n",
    "        \n",
    "        if operation == 'sqrt' or operation == 'log':\n",
    "            second_number = None\n",
    "        else:\n",
    "            second_number = float(input(\"Enter the second number: \"))\n",
    "\n",
    "        if operation in ['+', '-', '*', '/']:\n",
    "            result = calculator.calculate(operation, first_number, second_number)\n",
    "        elif operation == '^':\n",
    "            result = calculator.power(first_number, second_number)\n",
    "        elif operation == 'sqrt':\n",
    "            result = calculator.square_root(first_number)\n",
    "        elif operation == 'log':\n",
    "            result = calculator.logarithm(first_number)\n",
    "\n",
    "        print(\"Result:\", result)\n",
    "\n",
    "    except ValueError as ve:\n",
    "        print(\"ValueError:\", ve)\n",
    "\n",
    "    choice = input(\"Do you want to continue? (yes/no): \")\n",
    "    if choice.lower() != 'yes':\n",
    "        break\n",
    "\n",
    "\n",
    " "
   ]
  },
  {
   "cell_type": "code",
   "execution_count": null,
   "id": "dc4ca4a6-00d3-4e4d-82d0-169bcb8cecc2",
   "metadata": {},
   "outputs": [],
   "source": []
  }
 ],
 "metadata": {
  "kernelspec": {
   "display_name": "Python 3 (ipykernel)",
   "language": "python",
   "name": "python3"
  },
  "language_info": {
   "codemirror_mode": {
    "name": "ipython",
    "version": 3
   },
   "file_extension": ".py",
   "mimetype": "text/x-python",
   "name": "python",
   "nbconvert_exporter": "python",
   "pygments_lexer": "ipython3",
   "version": "3.11.7"
  }
 },
 "nbformat": 4,
 "nbformat_minor": 5
}
